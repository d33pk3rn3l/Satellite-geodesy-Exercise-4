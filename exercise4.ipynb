{
 "cells": [
  {
   "cell_type": "markdown",
   "metadata": {},
   "source": [
    "# Übung 4 | Planeten- und Satellitenbahnen (bepohl@ethz.ch)"
   ]
  },
  {
   "cell_type": "code",
   "execution_count": 1,
   "metadata": {},
   "outputs": [],
   "source": [
    "import numpy as np\n",
    "from tqdm import tqdm\n",
    "import datetime"
   ]
  },
  {
   "cell_type": "markdown",
   "metadata": {},
   "source": [
    "## Aufgabe 1\n",
    "\n",
    "M + m = ((2pi) / T )^2 * a^3 / G"
   ]
  },
  {
   "cell_type": "code",
   "execution_count": 2,
   "metadata": {},
   "outputs": [
    {
     "name": "stdout",
     "output_type": "stream",
     "text": [
      "Masse von Erde-Mond-System: 6.958e+24 kg\n"
     ]
    }
   ],
   "source": [
    "T_moon = 27 * 86400 # seconds\n",
    "H_moon = 400000 * 10**3 # meters\n",
    "G = 6.673 * 10**(-11) # m^3/(kg*s^2)\n",
    "\n",
    "M_ges = ((2*np.pi / T_moon)**2) * (H_moon**3 / G)\n",
    "\n",
    "print(\"Masse von Erde-Mond-System:\", \"{:.3e}\".format(M_ges), \"kg\")"
   ]
  },
  {
   "cell_type": "markdown",
   "metadata": {},
   "source": [
    "## Aufgabe 2"
   ]
  },
  {
   "cell_type": "code",
   "execution_count": 15,
   "metadata": {},
   "outputs": [
    {
     "name": "stdout",
     "output_type": "stream",
     "text": [
      "Kleine Halbachse: 9156.655 km, Grosse Halbachse: 2863.978 km\n"
     ]
    }
   ],
   "source": [
    "T_s = 8720 # seconds\n",
    "c_s = 9.448 * 10**9 # m^2/s\n",
    "GM = 3.986 * 10**14 # m^3/s^2\n",
    "\n",
    "a = (T_s**2 * GM / (4 * np.pi**2))**(1/3)\n",
    "b = c_s * T_s / (a * np.pi)\n",
    "\n",
    "print(\"Kleine Halbachse:\", round(a / 10**3, 3), \"km, Grosse Halbachse:\", round(b / 10**3, 3), \"km\")"
   ]
  },
  {
   "cell_type": "code",
   "execution_count": 4,
   "metadata": {},
   "outputs": [
    {
     "name": "stderr",
     "output_type": "stream",
     "text": [
      "100%|██████████| 10/10 [00:00<00:00, 74764.78it/s]\n"
     ]
    }
   ],
   "source": [
    "t_1 = 2 * 3600 + 30 * 60\n",
    "t_0 = 2 * 3600 + 20 * 60\n",
    "\n",
    "M_t1 = 2 * np.pi / T_s * (t_1 - t_0)\n",
    "e = (1 - b**2 / a**2)**(1/2)\n",
    "\n",
    "E = M_t1\n",
    "for n in tqdm(range(10)):\n",
    "    E = M_t1 + e * np.sin(E)\n",
    "\n",
    "v = 2 * np.arctan(np.tan(E / 2) * np.sqrt((1 + e) / (1 - e)))"
   ]
  },
  {
   "cell_type": "code",
   "execution_count": 21,
   "metadata": {},
   "outputs": [
    {
     "name": "stdout",
     "output_type": "stream",
     "text": [
      "X: -6793939.802508924 m, Y: 2801424.757128903 m, Velocity (I think it's right now): 8059.055429358593 m/s\n"
     ]
    }
   ],
   "source": [
    "p = a * (1 - e**2)\n",
    "\n",
    "r = p / (1 + e * np.cos(v))\n",
    "\n",
    "x = r * np.cos(v)\n",
    "y = r * np.sin(v)\n",
    "\n",
    "#V_s = np.sqrt( (GM * np.sin(v) / p)**2 + (GM * (e + np.cos(v)) / p)**2 )\n",
    "V_s = np.sqrt( (-np.sqrt(GM / p) * np.sin(v))**2 + (np.sqrt(GM / p) * (e + np.cos(v)))**2 )\n",
    "\n",
    "print(\"X:\", x, \"m, Y:\", y, \"m, Velocity (I think it's right now):\", V_s, \"m/s\")"
   ]
  },
  {
   "cell_type": "markdown",
   "metadata": {},
   "source": [
    "## Aufgabe 3"
   ]
  },
  {
   "cell_type": "code",
   "execution_count": 6,
   "metadata": {},
   "outputs": [
    {
     "name": "stdout",
     "output_type": "stream",
     "text": [
      "Perigäum Vergangenheit: 16:34:04.054246\n",
      "Apogäum Zukunft: 17:49:14.054246\n",
      "Perigäum Zukunft: 19:04:24.054246\n"
     ]
    }
   ],
   "source": [
    "e_3 = 0.3\n",
    "v_3 = 51 * np.pi / 180 + 30 * (np.pi / (60 * 180)) + 36 * np.pi / (3600 * 180)\n",
    "t_3 = 16 * 3600 + 45 * 60 + 50\n",
    "T_3 = 2 * 3600 + 30 * 60 + 20\n",
    "\n",
    "\n",
    "E_t3 = 2 * np.arctan( np.tan(v_3 / 2) * np.sqrt( (1 - e_3) / (1 + e_3)) )\n",
    "M_t3 = E_t3 - e_3 * np.sin(E_t3)\n",
    "\n",
    "t_3_peri_alt = t_3 - T_3 * M_t3 / (2 * np.pi)\n",
    "\n",
    "t_3_apo = t_3_peri_alt + T_3 / 2\n",
    "t_3_peri = t_3_peri_alt + T_3\n",
    "\n",
    "print(\"Perigäum Vergangenheit:\", str(datetime.timedelta(seconds=t_3_peri_alt)))\n",
    "print(\"Apogäum Zukunft:\", str(datetime.timedelta(seconds=t_3_apo)))\n",
    "print(\"Perigäum Zukunft:\", str(datetime.timedelta(seconds=t_3_peri)))"
   ]
  },
  {
   "cell_type": "markdown",
   "metadata": {},
   "source": [
    "## Aufgabe 4"
   ]
  },
  {
   "cell_type": "code",
   "execution_count": 12,
   "metadata": {},
   "outputs": [
    {
     "name": "stdout",
     "output_type": "stream",
     "text": [
      "Höhe des Satelliten: 35794.31 km\n"
     ]
    }
   ],
   "source": [
    "OMEGA = 7.29 * 10**-5 # rad / s\n",
    "R_e = 6378 * 10**3 # m\n",
    "\n",
    "H_sat = ((GM / OMEGA**2))**(1/3) - R_e\n",
    "print(\"Höhe des Satelliten:\", round((H_sat / 10**3), 2), \"km\")"
   ]
  }
 ],
 "metadata": {
  "interpreter": {
   "hash": "c51de2928a35a52e1cdfb4cbce194c9c2e4bd41903d60f2690863c9e7d4e167c"
  },
  "kernelspec": {
   "display_name": "Python 3.8.8 64-bit ('base': conda)",
   "language": "python",
   "name": "python3"
  },
  "language_info": {
   "codemirror_mode": {
    "name": "ipython",
    "version": 3
   },
   "file_extension": ".py",
   "mimetype": "text/x-python",
   "name": "python",
   "nbconvert_exporter": "python",
   "pygments_lexer": "ipython3",
   "version": "3.8.8"
  },
  "orig_nbformat": 4
 },
 "nbformat": 4,
 "nbformat_minor": 2
}
